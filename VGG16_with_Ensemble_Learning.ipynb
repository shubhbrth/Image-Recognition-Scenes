{
  "cells": [
    {
      "cell_type": "markdown",
      "metadata": {
        "id": "igKRoO3crj7J"
      },
      "source": [
        "# Install Important Libraries"
      ]
    },
    {
      "cell_type": "code",
      "execution_count": null,
      "metadata": {
        "colab": {
          "base_uri": "https://localhost:8080/"
        },
        "id": "qVA4DYujroZL",
        "outputId": "354d667d-666b-4d89-da7d-a9bc821be8cf"
      },
      "outputs": [
        {
          "output_type": "stream",
          "name": "stdout",
          "text": [
            "Collecting tensorflow-gpu==2.0.0\n",
            "  Downloading tensorflow_gpu-2.0.0-cp37-cp37m-manylinux2010_x86_64.whl (380.8 MB)\n",
            "\u001b[K     |████████████████████████████████| 380.8 MB 40 kB/s \n",
            "\u001b[?25hRequirement already satisfied: astor>=0.6.0 in /usr/local/lib/python3.7/dist-packages (from tensorflow-gpu==2.0.0) (0.8.1)\n",
            "Collecting tensorboard<2.1.0,>=2.0.0\n",
            "  Downloading tensorboard-2.0.2-py3-none-any.whl (3.8 MB)\n",
            "\u001b[K     |████████████████████████████████| 3.8 MB 33.5 MB/s \n",
            "\u001b[?25hRequirement already satisfied: keras-preprocessing>=1.0.5 in /usr/local/lib/python3.7/dist-packages (from tensorflow-gpu==2.0.0) (1.1.2)\n",
            "Requirement already satisfied: six>=1.10.0 in /usr/local/lib/python3.7/dist-packages (from tensorflow-gpu==2.0.0) (1.15.0)\n",
            "Requirement already satisfied: wheel>=0.26 in /usr/local/lib/python3.7/dist-packages (from tensorflow-gpu==2.0.0) (0.37.1)\n",
            "Requirement already satisfied: wrapt>=1.11.1 in /usr/local/lib/python3.7/dist-packages (from tensorflow-gpu==2.0.0) (1.14.0)\n",
            "Requirement already satisfied: absl-py>=0.7.0 in /usr/local/lib/python3.7/dist-packages (from tensorflow-gpu==2.0.0) (1.0.0)\n",
            "Requirement already satisfied: protobuf>=3.6.1 in /usr/local/lib/python3.7/dist-packages (from tensorflow-gpu==2.0.0) (3.17.3)\n",
            "Collecting keras-applications>=1.0.8\n",
            "  Downloading Keras_Applications-1.0.8-py3-none-any.whl (50 kB)\n",
            "\u001b[K     |████████████████████████████████| 50 kB 3.3 MB/s \n",
            "\u001b[?25hRequirement already satisfied: numpy<2.0,>=1.16.0 in /usr/local/lib/python3.7/dist-packages (from tensorflow-gpu==2.0.0) (1.21.6)\n",
            "Collecting gast==0.2.2\n",
            "  Downloading gast-0.2.2.tar.gz (10 kB)\n",
            "Requirement already satisfied: grpcio>=1.8.6 in /usr/local/lib/python3.7/dist-packages (from tensorflow-gpu==2.0.0) (1.44.0)\n",
            "Collecting tensorflow-estimator<2.1.0,>=2.0.0\n",
            "  Downloading tensorflow_estimator-2.0.1-py2.py3-none-any.whl (449 kB)\n",
            "\u001b[K     |████████████████████████████████| 449 kB 35.2 MB/s \n",
            "\u001b[?25hRequirement already satisfied: termcolor>=1.1.0 in /usr/local/lib/python3.7/dist-packages (from tensorflow-gpu==2.0.0) (1.1.0)\n",
            "Requirement already satisfied: google-pasta>=0.1.6 in /usr/local/lib/python3.7/dist-packages (from tensorflow-gpu==2.0.0) (0.2.0)\n",
            "Requirement already satisfied: opt-einsum>=2.3.2 in /usr/local/lib/python3.7/dist-packages (from tensorflow-gpu==2.0.0) (3.3.0)\n",
            "Requirement already satisfied: h5py in /usr/local/lib/python3.7/dist-packages (from keras-applications>=1.0.8->tensorflow-gpu==2.0.0) (3.1.0)\n",
            "Requirement already satisfied: google-auth-oauthlib<0.5,>=0.4.1 in /usr/local/lib/python3.7/dist-packages (from tensorboard<2.1.0,>=2.0.0->tensorflow-gpu==2.0.0) (0.4.6)\n",
            "Requirement already satisfied: setuptools>=41.0.0 in /usr/local/lib/python3.7/dist-packages (from tensorboard<2.1.0,>=2.0.0->tensorflow-gpu==2.0.0) (57.4.0)\n",
            "Requirement already satisfied: werkzeug>=0.11.15 in /usr/local/lib/python3.7/dist-packages (from tensorboard<2.1.0,>=2.0.0->tensorflow-gpu==2.0.0) (1.0.1)\n",
            "Requirement already satisfied: markdown>=2.6.8 in /usr/local/lib/python3.7/dist-packages (from tensorboard<2.1.0,>=2.0.0->tensorflow-gpu==2.0.0) (3.3.6)\n",
            "Requirement already satisfied: google-auth<2,>=1.6.3 in /usr/local/lib/python3.7/dist-packages (from tensorboard<2.1.0,>=2.0.0->tensorflow-gpu==2.0.0) (1.35.0)\n",
            "Requirement already satisfied: requests<3,>=2.21.0 in /usr/local/lib/python3.7/dist-packages (from tensorboard<2.1.0,>=2.0.0->tensorflow-gpu==2.0.0) (2.23.0)\n",
            "Requirement already satisfied: rsa<5,>=3.1.4 in /usr/local/lib/python3.7/dist-packages (from google-auth<2,>=1.6.3->tensorboard<2.1.0,>=2.0.0->tensorflow-gpu==2.0.0) (4.8)\n",
            "Requirement already satisfied: pyasn1-modules>=0.2.1 in /usr/local/lib/python3.7/dist-packages (from google-auth<2,>=1.6.3->tensorboard<2.1.0,>=2.0.0->tensorflow-gpu==2.0.0) (0.2.8)\n",
            "Requirement already satisfied: cachetools<5.0,>=2.0.0 in /usr/local/lib/python3.7/dist-packages (from google-auth<2,>=1.6.3->tensorboard<2.1.0,>=2.0.0->tensorflow-gpu==2.0.0) (4.2.4)\n",
            "Requirement already satisfied: requests-oauthlib>=0.7.0 in /usr/local/lib/python3.7/dist-packages (from google-auth-oauthlib<0.5,>=0.4.1->tensorboard<2.1.0,>=2.0.0->tensorflow-gpu==2.0.0) (1.3.1)\n",
            "Requirement already satisfied: importlib-metadata>=4.4 in /usr/local/lib/python3.7/dist-packages (from markdown>=2.6.8->tensorboard<2.1.0,>=2.0.0->tensorflow-gpu==2.0.0) (4.11.3)\n",
            "Requirement already satisfied: typing-extensions>=3.6.4 in /usr/local/lib/python3.7/dist-packages (from importlib-metadata>=4.4->markdown>=2.6.8->tensorboard<2.1.0,>=2.0.0->tensorflow-gpu==2.0.0) (4.2.0)\n",
            "Requirement already satisfied: zipp>=0.5 in /usr/local/lib/python3.7/dist-packages (from importlib-metadata>=4.4->markdown>=2.6.8->tensorboard<2.1.0,>=2.0.0->tensorflow-gpu==2.0.0) (3.8.0)\n",
            "Requirement already satisfied: pyasn1<0.5.0,>=0.4.6 in /usr/local/lib/python3.7/dist-packages (from pyasn1-modules>=0.2.1->google-auth<2,>=1.6.3->tensorboard<2.1.0,>=2.0.0->tensorflow-gpu==2.0.0) (0.4.8)\n",
            "Requirement already satisfied: urllib3!=1.25.0,!=1.25.1,<1.26,>=1.21.1 in /usr/local/lib/python3.7/dist-packages (from requests<3,>=2.21.0->tensorboard<2.1.0,>=2.0.0->tensorflow-gpu==2.0.0) (1.24.3)\n",
            "Requirement already satisfied: certifi>=2017.4.17 in /usr/local/lib/python3.7/dist-packages (from requests<3,>=2.21.0->tensorboard<2.1.0,>=2.0.0->tensorflow-gpu==2.0.0) (2021.10.8)\n",
            "Requirement already satisfied: idna<3,>=2.5 in /usr/local/lib/python3.7/dist-packages (from requests<3,>=2.21.0->tensorboard<2.1.0,>=2.0.0->tensorflow-gpu==2.0.0) (2.10)\n",
            "Requirement already satisfied: chardet<4,>=3.0.2 in /usr/local/lib/python3.7/dist-packages (from requests<3,>=2.21.0->tensorboard<2.1.0,>=2.0.0->tensorflow-gpu==2.0.0) (3.0.4)\n",
            "Requirement already satisfied: oauthlib>=3.0.0 in /usr/local/lib/python3.7/dist-packages (from requests-oauthlib>=0.7.0->google-auth-oauthlib<0.5,>=0.4.1->tensorboard<2.1.0,>=2.0.0->tensorflow-gpu==2.0.0) (3.2.0)\n",
            "Requirement already satisfied: cached-property in /usr/local/lib/python3.7/dist-packages (from h5py->keras-applications>=1.0.8->tensorflow-gpu==2.0.0) (1.5.2)\n",
            "Building wheels for collected packages: gast\n",
            "  Building wheel for gast (setup.py) ... \u001b[?25l\u001b[?25hdone\n",
            "  Created wheel for gast: filename=gast-0.2.2-py3-none-any.whl size=7554 sha256=95b3b19e87de0ff7607f10d504ba99ff45d00b226aa72465be538597fe9d2bb1\n",
            "  Stored in directory: /root/.cache/pip/wheels/21/7f/02/420f32a803f7d0967b48dd823da3f558c5166991bfd204eef3\n",
            "Successfully built gast\n",
            "Installing collected packages: tensorflow-estimator, tensorboard, keras-applications, gast, tensorflow-gpu\n",
            "  Attempting uninstall: tensorflow-estimator\n",
            "    Found existing installation: tensorflow-estimator 2.8.0\n",
            "    Uninstalling tensorflow-estimator-2.8.0:\n",
            "      Successfully uninstalled tensorflow-estimator-2.8.0\n",
            "  Attempting uninstall: tensorboard\n",
            "    Found existing installation: tensorboard 2.8.0\n",
            "    Uninstalling tensorboard-2.8.0:\n",
            "      Successfully uninstalled tensorboard-2.8.0\n",
            "  Attempting uninstall: gast\n",
            "    Found existing installation: gast 0.5.3\n",
            "    Uninstalling gast-0.5.3:\n",
            "      Successfully uninstalled gast-0.5.3\n",
            "\u001b[31mERROR: pip's dependency resolver does not currently take into account all the packages that are installed. This behaviour is the source of the following dependency conflicts.\n",
            "tensorflow 2.8.0 requires tf-estimator-nightly==2.8.0.dev2021122109, which is not installed.\n",
            "tensorflow 2.8.0 requires tensorboard<2.9,>=2.8, but you have tensorboard 2.0.2 which is incompatible.\n",
            "tensorflow-probability 0.16.0 requires gast>=0.3.2, but you have gast 0.2.2 which is incompatible.\u001b[0m\n",
            "Successfully installed gast-0.2.2 keras-applications-1.0.8 tensorboard-2.0.2 tensorflow-estimator-2.0.1 tensorflow-gpu-2.0.0\n",
            "Collecting keras==2.3.1\n",
            "  Downloading Keras-2.3.1-py2.py3-none-any.whl (377 kB)\n",
            "\u001b[K     |████████████████████████████████| 377 kB 5.1 MB/s \n",
            "\u001b[?25hRequirement already satisfied: numpy>=1.9.1 in /usr/local/lib/python3.7/dist-packages (from keras==2.3.1) (1.21.6)\n",
            "Requirement already satisfied: scipy>=0.14 in /usr/local/lib/python3.7/dist-packages (from keras==2.3.1) (1.4.1)\n",
            "Requirement already satisfied: six>=1.9.0 in /usr/local/lib/python3.7/dist-packages (from keras==2.3.1) (1.15.0)\n",
            "Requirement already satisfied: h5py in /usr/local/lib/python3.7/dist-packages (from keras==2.3.1) (3.1.0)\n",
            "Requirement already satisfied: pyyaml in /usr/local/lib/python3.7/dist-packages (from keras==2.3.1) (3.13)\n",
            "Requirement already satisfied: keras-preprocessing>=1.0.5 in /usr/local/lib/python3.7/dist-packages (from keras==2.3.1) (1.1.2)\n",
            "Requirement already satisfied: keras-applications>=1.0.6 in /usr/local/lib/python3.7/dist-packages (from keras==2.3.1) (1.0.8)\n",
            "Requirement already satisfied: cached-property in /usr/local/lib/python3.7/dist-packages (from h5py->keras==2.3.1) (1.5.2)\n",
            "Installing collected packages: keras\n",
            "  Attempting uninstall: keras\n",
            "    Found existing installation: keras 2.8.0\n",
            "    Uninstalling keras-2.8.0:\n",
            "      Successfully uninstalled keras-2.8.0\n",
            "\u001b[31mERROR: pip's dependency resolver does not currently take into account all the packages that are installed. This behaviour is the source of the following dependency conflicts.\n",
            "tensorflow 2.8.0 requires tf-estimator-nightly==2.8.0.dev2021122109, which is not installed.\n",
            "tensorflow 2.8.0 requires keras<2.9,>=2.8.0rc0, but you have keras 2.3.1 which is incompatible.\n",
            "tensorflow 2.8.0 requires tensorboard<2.9,>=2.8, but you have tensorboard 2.0.2 which is incompatible.\u001b[0m\n",
            "Successfully installed keras-2.3.1\n",
            "Found existing installation: h5py 3.1.0\n",
            "Uninstalling h5py-3.1.0:\n",
            "  Successfully uninstalled h5py-3.1.0\n",
            "Collecting h5py<3.0.0\n",
            "  Downloading h5py-2.10.0-cp37-cp37m-manylinux1_x86_64.whl (2.9 MB)\n",
            "\u001b[K     |████████████████████████████████| 2.9 MB 5.6 MB/s \n",
            "\u001b[?25hRequirement already satisfied: numpy>=1.7 in /usr/local/lib/python3.7/dist-packages (from h5py<3.0.0) (1.21.6)\n",
            "Requirement already satisfied: six in /usr/local/lib/python3.7/dist-packages (from h5py<3.0.0) (1.15.0)\n",
            "Installing collected packages: h5py\n",
            "\u001b[31mERROR: pip's dependency resolver does not currently take into account all the packages that are installed. This behaviour is the source of the following dependency conflicts.\n",
            "tensorflow 2.8.0 requires tf-estimator-nightly==2.8.0.dev2021122109, which is not installed.\n",
            "tensorflow 2.8.0 requires keras<2.9,>=2.8.0rc0, but you have keras 2.3.1 which is incompatible.\n",
            "tensorflow 2.8.0 requires tensorboard<2.9,>=2.8, but you have tensorboard 2.0.2 which is incompatible.\u001b[0m\n",
            "Successfully installed h5py-2.10.0\n"
          ]
        }
      ],
      "source": [
        "!pip install  tensorflow-gpu==2.0.0\n",
        "!pip install keras==2.3.1\n",
        "!pip uninstall -y h5py\n",
        "!pip install 'h5py < 3.0.0'"
      ]
    },
    {
      "cell_type": "markdown",
      "metadata": {
        "id": "uVpXVlxMpuHX"
      },
      "source": [
        "# Import Required Libraries"
      ]
    },
    {
      "cell_type": "code",
      "execution_count": null,
      "metadata": {
        "id": "NFqVoovNp4hR"
      },
      "outputs": [],
      "source": [
        "import tensorflow as tf\n",
        "import os\n",
        "import cv2\n",
        "import numpy as np\n",
        "from sklearn.utils import shuffle\n",
        "from sklearn.model_selection import train_test_split\n",
        "from sklearn.metrics import accuracy_score,confusion_matrix\n",
        "import seaborn as sns\n",
        "import matplotlib.pyplot as plt\n",
        "config = tf.compat.v1.ConfigProto()\n",
        "config.gpu_options.allow_growth=True\n",
        "sess = tf.compat.v1.Session(config=config)\n",
        "from keras import backend as K\n",
        "\n",
        "\n",
        "import xgboost as xgb\n",
        "from datetime import datetime\n",
        "import keras\n",
        "from keras.utils import np_utils\n",
        "from tensorflow.keras.utils import to_categorical\n",
        "from tensorflow.keras.layers import BatchNormalization\n",
        "from tensorflow.keras.utils import plot_model\n",
        "from tensorflow.keras.layers import Input, GlobalAveragePooling2D, LSTM\n",
        "from tensorflow.keras import models\n",
        "from tensorflow.keras.models import Model\n",
        "from tensorflow.keras.models import Sequential\n",
        "from tensorflow.keras.layers import Dense, Dropout, Activation, Flatten\n",
        "from tensorflow.keras.layers import Conv2D, MaxPooling2D, SeparableConv2D\n",
        "from tensorflow.keras.regularizers import l2\n",
        "from tensorflow.keras.optimizers import SGD, RMSprop, Adam\n",
        "from tensorflow.keras.layers import PReLU,LeakyReLU\n",
        "from tensorflow.keras.callbacks import ModelCheckpoint, ReduceLROnPlateau\n",
        "from tensorflow.keras.applications import ResNet50\n",
        "from tensorflow.keras.applications import VGG16\n",
        "from tensorflow.keras.callbacks import TensorBoard"
      ]
    },
    {
      "cell_type": "markdown",
      "metadata": {
        "id": "pHRn61EMp9ve"
      },
      "source": [
        "# Declare Variables"
      ]
    },
    {
      "cell_type": "code",
      "execution_count": null,
      "metadata": {
        "id": "5-sIRmCHqZ38"
      },
      "outputs": [],
      "source": [
        "# Set Image height and Weight\n",
        "imgRows=224\n",
        "imgCols=224\n",
        "#Set the numChannel to 1 for grayscale Image and 3 for Color Image\n",
        "numChannel=3\n",
        "# Number of iteration\n",
        "numEpoch=100\n",
        "# Number of data point for each pass\n",
        "batchSize=100\n",
        "#Get the current Working Directory\n",
        "currPath = os.getcwd()\n",
        "currPath = currPath.replace('\\\\','/')\n",
        "# Define training, testing, and Log Dir\n",
        "trainDir = currPath+'/drive/MyDrive/Dataset_Task3/training'\n",
        "testDir = currPath+'/drive/MyDrive/Dataset_Task3/testing' \n",
        "logDir = currPath+'/drive/MyDrive/Dataset_Task3/Log/' + datetime.now().strftime(\"%Y%m%d-%H%M%S\")\n"
      ]
    },
    {
      "cell_type": "markdown",
      "metadata": {
        "id": "vIVrmA4nqa6m"
      },
      "source": [
        "# Initialize Functions"
      ]
    },
    {
      "cell_type": "code",
      "execution_count": null,
      "metadata": {
        "id": "twmXCM0bqd2N"
      },
      "outputs": [],
      "source": [
        "import itertools \n",
        "# Plotting the confusion matrix\n",
        "def plot_confusion_matrix(cm, classes,\n",
        "                          normalize=False,\n",
        "                          title='Confusion matrix',\n",
        "                          cmap=plt.cm.Blues):\n",
        "    \"\"\"\n",
        "    This function prints and plots the confusion matrix.\n",
        "    Normalization can be applied by setting `normalize=True`.\n",
        "    \"\"\"\n",
        "    plt.imshow(cm, interpolation='nearest', cmap=cmap)\n",
        "    plt.title(title)\n",
        "    plt.colorbar()\n",
        "    tick_marks = np.arange(len(classes))\n",
        "    plt.xticks(tick_marks, classes, rotation=45)\n",
        "    plt.yticks(tick_marks, classes)\n",
        "\n",
        "    if normalize:\n",
        "        cm = cm.astype('float') / cm.sum(axis=1)[:, np.newaxis]\n",
        "        print(\"Normalized confusion matrix\")\n",
        "    else:\n",
        "        print('Confusion matrix, without normalization')\n",
        "\n",
        "    thresh = cm.max() / 2.\n",
        "    for i, j in itertools.product(range(cm.shape[0]), range(cm.shape[1])):\n",
        "        plt.text(j, i, cm[i, j],\n",
        "                 horizontalalignment=\"center\",\n",
        "                 color=\"white\" if cm[i, j] > thresh else \"black\")\n",
        "\n",
        "    plt.tight_layout()\n",
        "    plt.ylabel('True label')\n",
        "    plt.xlabel('Predicted label')"
      ]
    },
    {
      "cell_type": "markdown",
      "metadata": {
        "id": "ewF9IO1Jqh12"
      },
      "source": [
        "# Data Ingestion_PreProcessing"
      ]
    },
    {
      "cell_type": "markdown",
      "metadata": {
        "id": "mh9KnzSuqjzc"
      },
      "source": [
        "##Load Data"
      ]
    },
    {
      "cell_type": "code",
      "execution_count": null,
      "metadata": {
        "colab": {
          "base_uri": "https://localhost:8080/"
        },
        "id": "ENztwN8eBiyq",
        "outputId": "f9fd8e78-c394-4612-a30f-9229181426cc"
      },
      "outputs": [
        {
          "output_type": "stream",
          "name": "stdout",
          "text": [
            "Mounted at /content/drive\n"
          ]
        }
      ],
      "source": [
        "from google.colab import drive\n",
        "drive.mount('/content/drive')"
      ]
    },
    {
      "cell_type": "code",
      "execution_count": null,
      "metadata": {
        "colab": {
          "base_uri": "https://localhost:8080/"
        },
        "id": "hv6vdixxqim6",
        "outputId": "e49eff30-6dd4-41b0-e9cf-e6389d90b898"
      },
      "outputs": [
        {
          "output_type": "stream",
          "name": "stdout",
          "text": [
            "Loading the images of Class-industrial\n",
            "\n",
            "Loading the images of Class-Office\n",
            "\n",
            "Loading the images of Class-bedroom\n",
            "\n",
            "Loading the images of Class-Mountain\n",
            "\n",
            "Loading the images of Class-Coast\n",
            "\n",
            "Loading the images of Class-Insidecity\n",
            "\n",
            "Loading the images of Class-Forest\n",
            "\n",
            "Loading the images of Class-Highway\n",
            "\n",
            "Loading the images of Class-livingroom\n",
            "\n",
            "Loading the images of Class-kitchen\n",
            "\n",
            "Loading the images of Class-OpenCountry\n",
            "\n",
            "Loading the images of Class-TallBuilding\n",
            "\n",
            "Loading the images of Class-Suburb\n",
            "\n",
            "Loading the images of Class-store\n",
            "\n",
            "Loading the images of Class-Street\n",
            "\n"
          ]
        }
      ],
      "source": [
        "trainListDirs = os.listdir(trainDir)\n",
        "# get number of classes based on the directory count\n",
        "numClasses = len(trainListDirs)\n",
        "\n",
        "# Create empty list for loading data\n",
        "imgDataList = []\n",
        "\n",
        "# Traverse through the training data for loading it to memory\n",
        "for classDir in trainListDirs:\n",
        "    imgList = os.listdir(trainDir+'/'+ classDir)\n",
        "#   Read image from the directory\n",
        "    print ('Loading the images of Class-'+'{}\\n'.format(classDir))\n",
        "#     Read all images of each class\n",
        "    for img in imgList:\n",
        "        input_img=cv2.imread(trainDir + '/'+ classDir + '/'+ img)\n",
        "        if numChannel == 3:\n",
        "#             Convert the image to RGB\n",
        "            input_img = cv2.cvtColor(input_img,cv2.COLOR_BGR2RGB)\n",
        "        else:\n",
        "#             Convert the image to grayscale\n",
        "            input_img = cv2.cvtColor(input_img,cv2.COLOR_BGR2GRAY)\n",
        "#     Resize the image with given dimension\n",
        "        newImgResize = cv2.resize(input_img,(imgRows,imgCols), interpolation = cv2.INTER_AREA)\n",
        "#     Append the image to the List and load it to the memory\n",
        "        imgDataList.append(newImgResize)"
      ]
    },
    {
      "cell_type": "code",
      "execution_count": null,
      "metadata": {
        "id": "htgatxFBvQfA"
      },
      "outputs": [],
      "source": [
        "# Typecast the image to numpy array for vectorizing the data\n",
        "imgData = np.array(imgDataList)\n",
        "imgData = imgData.astype('float32')\n",
        "# Normalize the data\n",
        "imgData /= 255\n",
        "\n",
        "#  Format the data according to tf format\n",
        "if numChannel == 1 :\n",
        "  imgData= np.expand_dims(imgData, axis=-1) \n",
        "  print (imgData.shape)\n"
      ]
    },
    {
      "cell_type": "markdown",
      "metadata": {
        "id": "Gkg8i4M5vpXI"
      },
      "source": [
        "#### Assign Labels to data"
      ]
    },
    {
      "cell_type": "code",
      "execution_count": null,
      "metadata": {
        "id": "OW7pNJk8vmVi"
      },
      "outputs": [],
      "source": [
        "# Apply Label Encoding\n",
        "labels = np.ones((imgData.shape[0],),dtype='int64')\n",
        "initLabelRange = 0\n",
        "for i in range(numClasses):\n",
        "    finalLabelRange = len(os.listdir(trainDir+'/'+ trainListDirs[i]))+initLabelRange\n",
        "    labels[initLabelRange:finalLabelRange]=i\n",
        "    initLabelRange = finalLabelRange"
      ]
    },
    {
      "cell_type": "markdown",
      "metadata": {
        "id": "9YfYBEBrv3o6"
      },
      "source": [
        "## Encode Label and Split Data into Training and Testing"
      ]
    },
    {
      "cell_type": "code",
      "execution_count": null,
      "metadata": {
        "id": "5yTae0J7v87r"
      },
      "outputs": [],
      "source": [
        "# convert class labels to on-hot encoding\n",
        "Y = np_utils.to_categorical(labels, numClasses)\n",
        "\n",
        "#Shuffle the dataset\n",
        "x,y = shuffle(imgData, Y, random_state=42)\n",
        "# Split the dataset\n",
        "X_train, X_test, y_train, y_test = train_test_split(x, y, test_size=0.2, random_state=42)"
      ]
    },
    {
      "cell_type": "markdown",
      "metadata": {
        "id": "hZv5fppbwlXr"
      },
      "source": [
        "# ML Model"
      ]
    },
    {
      "cell_type": "markdown",
      "metadata": {
        "id": "dEHpC1NVwrnl"
      },
      "source": [
        "## Model Definition"
      ]
    },
    {
      "cell_type": "code",
      "execution_count": null,
      "metadata": {
        "colab": {
          "base_uri": "https://localhost:8080/"
        },
        "id": "ytawVSiEwu6K",
        "outputId": "dc67ae61-5c40-4bf0-fadb-5083c3dacb30"
      },
      "outputs": [
        {
          "output_type": "stream",
          "name": "stdout",
          "text": [
            "0 input_3 False\n",
            "1 block1_conv1 False\n",
            "2 block1_conv2 False\n",
            "3 block1_pool False\n",
            "4 block2_conv1 False\n",
            "5 block2_conv2 False\n",
            "6 block2_pool False\n",
            "7 block3_conv1 False\n",
            "8 block3_conv2 False\n",
            "9 block3_conv3 False\n",
            "10 block3_pool False\n",
            "11 block4_conv1 False\n",
            "12 block4_conv2 False\n",
            "13 block4_conv3 False\n",
            "14 block4_pool False\n",
            "15 block5_conv1 True\n",
            "16 block5_conv2 True\n",
            "17 block5_conv3 True\n",
            "18 block5_pool True\n"
          ]
        }
      ],
      "source": [
        "# Get shape of the data\n",
        "input_shape = imgData[0].shape\n",
        "                    \n",
        "inputimg = Input(shape=input_shape)\n",
        "\n",
        "def Model_Custom1(inputimg):\n",
        "    # First Block\n",
        "    conv1_1=Conv2D(16,(3,3), padding='same', activation='relu')(inputimg)\n",
        "    conv1_2=Conv2D(32,(5,5), padding='same', activation='relu')(conv1_1)\n",
        "    conv1=Conv2D(32,(5,5), padding='same', activation='relu')(conv1_2)\n",
        "\n",
        "    # Second Block\n",
        "    conv2_1=Conv2D(16,(5,5), padding='same', activation='relu')(inputimg)\n",
        "    conv2_2=Conv2D(32,(7,7), padding='same', activation='relu')(conv2_1)\n",
        "    maxpool_conv2=MaxPooling2D((2,2),strides=(1,1),padding='same')(conv2_2)\n",
        "    \n",
        "    # Third Block\n",
        "    conv3=MaxPooling2D((2,2),strides=(1,1),padding='same')(inputimg)\n",
        "    conv3=Conv2D(32,(5,5),padding='same',activation='relu')(conv3)\n",
        "    bn_conv3=BatchNormalization()(conv3)\n",
        "    \n",
        "    conv_concat=keras.layers.concatenate([conv1,maxpool_conv2], axis = 3)\n",
        "\n",
        "    bn_convcat=BatchNormalization()(conv_concat)\n",
        "    \n",
        "    conv4_maxpool_conv3_concat=keras.layers.concatenate([bn_conv3,bn_convcat], axis = 3)\n",
        "    \n",
        "    conv4=Conv2D(32,(5,5),padding='same',activation='relu')(bn_convcat)\n",
        "    \n",
        "    maxpool_conv4=MaxPooling2D((2,2),strides=(1,1),padding='same')(conv4)\n",
        "    \n",
        "    bn_maxpool_conv4=BatchNormalization()(maxpool_conv4)\n",
        "    \n",
        "    return bn_maxpool_conv4\n",
        "\n",
        "def Model_CustomPretrainedResnet(inputimg):\n",
        "  # Define the resnet model without top layer\n",
        "  model = ResNet50(input_tensor= inputimg , include_top=False, weights='imagenet',\n",
        "                   input_shape=input_shape)\n",
        "  \n",
        "  # Freeze specific layers\n",
        "  for layer in model.layers[:143]:\n",
        "        layer.trainable = False\n",
        "\n",
        "  return model.output\n",
        "\n",
        "def Model_CustomPretrainedVGG16(inputimg):\n",
        "  # Define the VGG16 model without top layer\n",
        "  model = VGG16(input_tensor= inputimg , include_top=False, weights='imagenet',\n",
        "                   input_shape=input_shape)\n",
        "\n",
        "  # Freeze four convolution blocks\n",
        "  for layer in model.layers[:15]:\n",
        "      layer.trainable = False\n",
        "  # Make sure you have frozen the correct layers\n",
        "  for i, layer in enumerate(model.layers):\n",
        "      print(i, layer.name, layer.trainable)\n",
        "\n",
        "  return model.output\n",
        "\n",
        "def Last_layer(input_layer):\n",
        "    \n",
        "    conv_concat_flatten = Flatten()(input_layer)\n",
        "    dense_layer_1 = Dense(512,activation='relu')(conv_concat_flatten)\n",
        "    bn_dense_layer_1 = BatchNormalization()(dense_layer_1)\n",
        "\n",
        "    dense_layer_2 = Dense(256,activation='relu')(bn_dense_layer_1)\n",
        "    bn_dense_layer_2 = BatchNormalization()(dense_layer_2)\n",
        "\n",
        "    dense_layer_3=Dense(80,activation='relu')(bn_dense_layer_2)\n",
        "    \n",
        "    bn_dense_layer_3=BatchNormalization()(dense_layer_3)\n",
        "\n",
        "    dense_layer_4=Dense(20,activation='relu')(bn_dense_layer_3)\n",
        "    \n",
        "    bn_dense_layer_4=BatchNormalization()(dense_layer_4)\n",
        "    \n",
        "    return bn_dense_layer_4\n",
        "\n",
        "\n",
        "layer_loop1=Model_CustomPretrainedVGG16(inputimg)\n",
        "\n",
        "final_layer=Last_layer(layer_loop1)\n",
        "\n",
        "final=Dense(y_train.shape[1], activation='softmax')(final_layer)\n",
        "model=Model([inputimg],final)\n",
        "\n",
        "plot_model(model,to_file='model.png',show_shapes=True, show_layer_names=True)\n",
        "learningRate = 5e-5\n",
        "model.compile(optimizer = 'adam',loss = 'categorical_crossentropy',metrics = ['accuracy'])\n",
        "\n",
        "# Viewing model_configuration\n",
        "\n",
        "# model.summary()"
      ]
    },
    {
      "cell_type": "code",
      "source": [
        "# Remove existing Log if present\n",
        "%rm -rf './log'"
      ],
      "metadata": {
        "id": "3evjjOJ_86ZX"
      },
      "execution_count": null,
      "outputs": []
    },
    {
      "cell_type": "markdown",
      "metadata": {
        "id": "R_SL-MfdEhtW"
      },
      "source": [
        "## Model Training"
      ]
    },
    {
      "cell_type": "code",
      "execution_count": null,
      "metadata": {
        "colab": {
          "base_uri": "https://localhost:8080/"
        },
        "id": "yDw3KKlBDul1",
        "outputId": "3735585e-02f3-44d5-b144-f5baa332d7b0"
      },
      "outputs": [
        {
          "output_type": "stream",
          "name": "stdout",
          "text": [
            "Train on 1200 samples, validate on 300 samples\n",
            "Epoch 1/100\n",
            "1100/1200 [==========================>...] - ETA: 1s - loss: 0.1295 - accuracy: 0.9991\n",
            "Epoch 00001: val_loss improved from inf to 1.05444, saving model to modelTaskVGG16.h5\n",
            "1200/1200 [==============================] - 19s 16ms/sample - loss: 0.1281 - accuracy: 0.9992 - val_loss: 1.0544 - val_accuracy: 0.7400\n",
            "Epoch 2/100\n",
            "1100/1200 [==========================>...] - ETA: 1s - loss: 0.1090 - accuracy: 1.0000\n",
            "Epoch 00002: val_loss improved from 1.05444 to 0.94869, saving model to modelTaskVGG16.h5\n",
            "1200/1200 [==============================] - 19s 15ms/sample - loss: 0.1099 - accuracy: 1.0000 - val_loss: 0.9487 - val_accuracy: 0.7533\n",
            "Epoch 3/100\n",
            "1100/1200 [==========================>...] - ETA: 1s - loss: 0.0912 - accuracy: 1.0000\n",
            "Epoch 00003: val_loss improved from 0.94869 to 0.91983, saving model to modelTaskVGG16.h5\n",
            "1200/1200 [==============================] - 19s 16ms/sample - loss: 0.0944 - accuracy: 0.9992 - val_loss: 0.9198 - val_accuracy: 0.7800\n",
            "Epoch 4/100\n",
            "1100/1200 [==========================>...] - ETA: 1s - loss: 0.0803 - accuracy: 1.0000\n",
            "Epoch 00004: val_loss improved from 0.91983 to 0.72244, saving model to modelTaskVGG16.h5\n",
            "1200/1200 [==============================] - 19s 16ms/sample - loss: 0.0798 - accuracy: 1.0000 - val_loss: 0.7224 - val_accuracy: 0.8300\n",
            "Epoch 5/100\n",
            "1100/1200 [==========================>...] - ETA: 1s - loss: 0.0744 - accuracy: 0.9982\n",
            "Epoch 00005: val_loss did not improve from 0.72244\n",
            "1200/1200 [==============================] - 18s 15ms/sample - loss: 0.0742 - accuracy: 0.9983 - val_loss: 0.7872 - val_accuracy: 0.7867\n",
            "Epoch 6/100\n",
            "1100/1200 [==========================>...] - ETA: 1s - loss: 0.0667 - accuracy: 0.9982\n",
            "Epoch 00006: val_loss did not improve from 0.72244\n",
            "1200/1200 [==============================] - 18s 15ms/sample - loss: 0.0657 - accuracy: 0.9983 - val_loss: 0.8158 - val_accuracy: 0.7700\n",
            "Epoch 7/100\n",
            "1100/1200 [==========================>...] - ETA: 1s - loss: 0.0603 - accuracy: 1.0000\n",
            "Epoch 00007: val_loss did not improve from 0.72244\n",
            "1200/1200 [==============================] - 18s 15ms/sample - loss: 0.0596 - accuracy: 1.0000 - val_loss: 0.8435 - val_accuracy: 0.7833\n",
            "Epoch 8/100\n",
            "1100/1200 [==========================>...] - ETA: 1s - loss: 0.0531 - accuracy: 1.0000\n",
            "Epoch 00008: val_loss improved from 0.72244 to 0.69101, saving model to modelTaskVGG16.h5\n",
            "1200/1200 [==============================] - 19s 16ms/sample - loss: 0.0536 - accuracy: 1.0000 - val_loss: 0.6910 - val_accuracy: 0.8100\n",
            "Epoch 9/100\n",
            "1100/1200 [==========================>...] - ETA: 1s - loss: 0.0514 - accuracy: 1.0000\n",
            "Epoch 00009: val_loss did not improve from 0.69101\n",
            "1200/1200 [==============================] - 18s 15ms/sample - loss: 0.0508 - accuracy: 1.0000 - val_loss: 0.8722 - val_accuracy: 0.7433\n",
            "Epoch 10/100\n",
            "1100/1200 [==========================>...] - ETA: 1s - loss: 0.0485 - accuracy: 0.9991\n",
            "Epoch 00010: val_loss did not improve from 0.69101\n",
            "1200/1200 [==============================] - 18s 15ms/sample - loss: 0.0480 - accuracy: 0.9992 - val_loss: 0.8508 - val_accuracy: 0.7433\n",
            "Epoch 11/100\n",
            "1100/1200 [==========================>...] - ETA: 1s - loss: 0.0421 - accuracy: 1.0000\n",
            "Epoch 00011: val_loss did not improve from 0.69101\n",
            "1200/1200 [==============================] - 18s 15ms/sample - loss: 0.0418 - accuracy: 1.0000 - val_loss: 0.8101 - val_accuracy: 0.7767\n",
            "Epoch 12/100\n",
            "1100/1200 [==========================>...] - ETA: 1s - loss: 0.0385 - accuracy: 1.0000\n",
            "Epoch 00012: val_loss did not improve from 0.69101\n",
            "1200/1200 [==============================] - 18s 15ms/sample - loss: 0.0388 - accuracy: 1.0000 - val_loss: 0.7631 - val_accuracy: 0.7967\n",
            "Epoch 13/100\n",
            "1100/1200 [==========================>...] - ETA: 1s - loss: 0.0342 - accuracy: 1.0000\n",
            "Epoch 00013: val_loss did not improve from 0.69101\n",
            "1200/1200 [==============================] - 18s 15ms/sample - loss: 0.0339 - accuracy: 1.0000 - val_loss: 0.7463 - val_accuracy: 0.7867\n",
            "Epoch 14/100\n",
            "1100/1200 [==========================>...] - ETA: 1s - loss: 0.0307 - accuracy: 1.0000\n",
            "Epoch 00014: val_loss improved from 0.69101 to 0.65848, saving model to modelTaskVGG16.h5\n",
            "1200/1200 [==============================] - 19s 15ms/sample - loss: 0.0306 - accuracy: 1.0000 - val_loss: 0.6585 - val_accuracy: 0.8200\n",
            "Epoch 15/100\n",
            "1100/1200 [==========================>...] - ETA: 1s - loss: 0.0299 - accuracy: 1.0000\n",
            "Epoch 00015: val_loss improved from 0.65848 to 0.64544, saving model to modelTaskVGG16.h5\n",
            "1200/1200 [==============================] - 19s 15ms/sample - loss: 0.0301 - accuracy: 1.0000 - val_loss: 0.6454 - val_accuracy: 0.8200\n",
            "Epoch 16/100\n",
            "1100/1200 [==========================>...] - ETA: 1s - loss: 0.0265 - accuracy: 1.0000\n",
            "Epoch 00016: val_loss did not improve from 0.64544\n",
            "1200/1200 [==============================] - 18s 15ms/sample - loss: 0.0267 - accuracy: 1.0000 - val_loss: 0.6775 - val_accuracy: 0.8067\n",
            "Epoch 17/100\n",
            "1100/1200 [==========================>...] - ETA: 1s - loss: 0.0247 - accuracy: 1.0000\n",
            "Epoch 00017: val_loss improved from 0.64544 to 0.59293, saving model to modelTaskVGG16.h5\n",
            "1200/1200 [==============================] - 19s 16ms/sample - loss: 0.0247 - accuracy: 1.0000 - val_loss: 0.5929 - val_accuracy: 0.8367\n",
            "Epoch 18/100\n",
            "1100/1200 [==========================>...] - ETA: 1s - loss: 0.0234 - accuracy: 1.0000\n",
            "Epoch 00018: val_loss improved from 0.59293 to 0.58608, saving model to modelTaskVGG16.h5\n",
            "1200/1200 [==============================] - 19s 16ms/sample - loss: 0.0233 - accuracy: 1.0000 - val_loss: 0.5861 - val_accuracy: 0.8200\n",
            "Epoch 19/100\n",
            "1100/1200 [==========================>...] - ETA: 1s - loss: 0.0220 - accuracy: 1.0000\n",
            "Epoch 00019: val_loss improved from 0.58608 to 0.57438, saving model to modelTaskVGG16.h5\n",
            "1200/1200 [==============================] - 19s 16ms/sample - loss: 0.0219 - accuracy: 1.0000 - val_loss: 0.5744 - val_accuracy: 0.8433\n",
            "Epoch 20/100\n",
            "1100/1200 [==========================>...] - ETA: 1s - loss: 0.0200 - accuracy: 1.0000\n",
            "Epoch 00020: val_loss did not improve from 0.57438\n",
            "1200/1200 [==============================] - 18s 15ms/sample - loss: 0.0198 - accuracy: 1.0000 - val_loss: 0.5858 - val_accuracy: 0.8367\n",
            "Epoch 21/100\n",
            "1100/1200 [==========================>...] - ETA: 1s - loss: 0.0201 - accuracy: 1.0000\n",
            "Epoch 00021: val_loss did not improve from 0.57438\n",
            "1200/1200 [==============================] - 18s 15ms/sample - loss: 0.0200 - accuracy: 1.0000 - val_loss: 0.6202 - val_accuracy: 0.8267\n",
            "Epoch 22/100\n",
            "1100/1200 [==========================>...] - ETA: 1s - loss: 0.0183 - accuracy: 1.0000\n",
            "Epoch 00022: val_loss did not improve from 0.57438\n",
            "1200/1200 [==============================] - 18s 15ms/sample - loss: 0.0184 - accuracy: 1.0000 - val_loss: 0.6003 - val_accuracy: 0.8367\n",
            "Epoch 23/100\n",
            "1100/1200 [==========================>...] - ETA: 1s - loss: 0.0179 - accuracy: 1.0000\n",
            "Epoch 00023: val_loss improved from 0.57438 to 0.57219, saving model to modelTaskVGG16.h5\n",
            "1200/1200 [==============================] - 19s 15ms/sample - loss: 0.0180 - accuracy: 1.0000 - val_loss: 0.5722 - val_accuracy: 0.8333\n",
            "Epoch 24/100\n",
            "1100/1200 [==========================>...] - ETA: 1s - loss: 0.0172 - accuracy: 1.0000\n",
            "Epoch 00024: val_loss did not improve from 0.57219\n",
            "1200/1200 [==============================] - 18s 15ms/sample - loss: 0.0170 - accuracy: 1.0000 - val_loss: 0.5760 - val_accuracy: 0.8333\n",
            "Epoch 25/100\n",
            "1100/1200 [==========================>...] - ETA: 1s - loss: 0.0161 - accuracy: 1.0000\n",
            "Epoch 00025: val_loss improved from 0.57219 to 0.55606, saving model to modelTaskVGG16.h5\n",
            "1200/1200 [==============================] - 19s 15ms/sample - loss: 0.0161 - accuracy: 1.0000 - val_loss: 0.5561 - val_accuracy: 0.8400\n",
            "Epoch 26/100\n",
            "1100/1200 [==========================>...] - ETA: 1s - loss: 0.0150 - accuracy: 1.0000\n",
            "Epoch 00026: val_loss improved from 0.55606 to 0.51408, saving model to modelTaskVGG16.h5\n",
            "1200/1200 [==============================] - 19s 15ms/sample - loss: 0.0150 - accuracy: 1.0000 - val_loss: 0.5141 - val_accuracy: 0.8433\n",
            "Epoch 27/100\n",
            "1100/1200 [==========================>...] - ETA: 1s - loss: 0.0148 - accuracy: 1.0000\n",
            "Epoch 00027: val_loss did not improve from 0.51408\n",
            "1200/1200 [==============================] - 18s 15ms/sample - loss: 0.0146 - accuracy: 1.0000 - val_loss: 0.5336 - val_accuracy: 0.8533\n",
            "Epoch 28/100\n",
            "1100/1200 [==========================>...] - ETA: 1s - loss: 0.0137 - accuracy: 1.0000\n",
            "Epoch 00028: val_loss did not improve from 0.51408\n",
            "1200/1200 [==============================] - 18s 15ms/sample - loss: 0.0137 - accuracy: 1.0000 - val_loss: 0.5200 - val_accuracy: 0.8433\n",
            "Epoch 29/100\n",
            "1100/1200 [==========================>...] - ETA: 1s - loss: 0.0130 - accuracy: 1.0000\n",
            "Epoch 00029: val_loss improved from 0.51408 to 0.48402, saving model to modelTaskVGG16.h5\n",
            "1200/1200 [==============================] - 19s 16ms/sample - loss: 0.0130 - accuracy: 1.0000 - val_loss: 0.4840 - val_accuracy: 0.8633\n",
            "Epoch 30/100\n",
            "1100/1200 [==========================>...] - ETA: 1s - loss: 0.0127 - accuracy: 1.0000\n",
            "Epoch 00030: val_loss improved from 0.48402 to 0.47277, saving model to modelTaskVGG16.h5\n",
            "1200/1200 [==============================] - 19s 16ms/sample - loss: 0.0129 - accuracy: 1.0000 - val_loss: 0.4728 - val_accuracy: 0.8733\n",
            "Epoch 31/100\n",
            "1100/1200 [==========================>...] - ETA: 1s - loss: 0.0124 - accuracy: 1.0000\n",
            "Epoch 00031: val_loss did not improve from 0.47277\n",
            "1200/1200 [==============================] - 18s 15ms/sample - loss: 0.0123 - accuracy: 1.0000 - val_loss: 0.4783 - val_accuracy: 0.8633\n",
            "Epoch 32/100\n",
            "1100/1200 [==========================>...] - ETA: 1s - loss: 0.0125 - accuracy: 1.0000\n",
            "Epoch 00032: val_loss did not improve from 0.47277\n",
            "1200/1200 [==============================] - 18s 15ms/sample - loss: 0.0126 - accuracy: 1.0000 - val_loss: 0.4926 - val_accuracy: 0.8533\n",
            "Epoch 33/100\n",
            "1100/1200 [==========================>...] - ETA: 1s - loss: 0.0115 - accuracy: 1.0000\n",
            "Epoch 00033: val_loss did not improve from 0.47277\n",
            "1200/1200 [==============================] - 18s 15ms/sample - loss: 0.0114 - accuracy: 1.0000 - val_loss: 0.4766 - val_accuracy: 0.8633\n",
            "Epoch 34/100\n",
            "1100/1200 [==========================>...] - ETA: 1s - loss: 0.0104 - accuracy: 1.0000\n",
            "Epoch 00034: val_loss improved from 0.47277 to 0.47237, saving model to modelTaskVGG16.h5\n",
            "1200/1200 [==============================] - 19s 16ms/sample - loss: 0.0105 - accuracy: 1.0000 - val_loss: 0.4724 - val_accuracy: 0.8633\n",
            "Epoch 35/100\n",
            "1100/1200 [==========================>...] - ETA: 1s - loss: 0.0101 - accuracy: 1.0000\n",
            "Epoch 00035: val_loss improved from 0.47237 to 0.44980, saving model to modelTaskVGG16.h5\n",
            "1200/1200 [==============================] - 19s 16ms/sample - loss: 0.0101 - accuracy: 1.0000 - val_loss: 0.4498 - val_accuracy: 0.8733\n",
            "Epoch 36/100\n",
            "1100/1200 [==========================>...] - ETA: 1s - loss: 0.0097 - accuracy: 1.0000\n",
            "Epoch 00036: val_loss did not improve from 0.44980\n",
            "1200/1200 [==============================] - 18s 15ms/sample - loss: 0.0096 - accuracy: 1.0000 - val_loss: 0.4681 - val_accuracy: 0.8567\n",
            "Epoch 37/100\n",
            "1100/1200 [==========================>...] - ETA: 1s - loss: 0.0098 - accuracy: 1.0000\n",
            "Epoch 00037: val_loss did not improve from 0.44980\n",
            "1200/1200 [==============================] - 18s 15ms/sample - loss: 0.0097 - accuracy: 1.0000 - val_loss: 0.4662 - val_accuracy: 0.8633\n",
            "Epoch 38/100\n",
            "1100/1200 [==========================>...] - ETA: 1s - loss: 0.0097 - accuracy: 1.0000\n",
            "Epoch 00038: val_loss did not improve from 0.44980\n",
            "1200/1200 [==============================] - 18s 15ms/sample - loss: 0.0096 - accuracy: 1.0000 - val_loss: 0.4611 - val_accuracy: 0.8600\n",
            "Epoch 39/100\n",
            "1100/1200 [==========================>...] - ETA: 1s - loss: 0.0085 - accuracy: 1.0000\n",
            "Epoch 00039: val_loss did not improve from 0.44980\n",
            "1200/1200 [==============================] - 18s 15ms/sample - loss: 0.0088 - accuracy: 1.0000 - val_loss: 0.4757 - val_accuracy: 0.8500\n",
            "Epoch 40/100\n",
            "1100/1200 [==========================>...] - ETA: 1s - loss: 0.0086 - accuracy: 1.0000\n",
            "Epoch 00040: val_loss did not improve from 0.44980\n",
            "1200/1200 [==============================] - 18s 15ms/sample - loss: 0.0085 - accuracy: 1.0000 - val_loss: 0.4517 - val_accuracy: 0.8667\n",
            "Epoch 41/100\n",
            "1100/1200 [==========================>...] - ETA: 1s - loss: 0.0082 - accuracy: 1.0000\n",
            "Epoch 00041: val_loss did not improve from 0.44980\n",
            "1200/1200 [==============================] - 18s 15ms/sample - loss: 0.0082 - accuracy: 1.0000 - val_loss: 0.4608 - val_accuracy: 0.8667\n",
            "Epoch 42/100\n",
            "1100/1200 [==========================>...] - ETA: 1s - loss: 0.0085 - accuracy: 1.0000\n",
            "Epoch 00042: val_loss improved from 0.44980 to 0.44919, saving model to modelTaskVGG16.h5\n",
            "1200/1200 [==============================] - 19s 16ms/sample - loss: 0.0085 - accuracy: 1.0000 - val_loss: 0.4492 - val_accuracy: 0.8733\n",
            "Epoch 43/100\n",
            "1100/1200 [==========================>...] - ETA: 1s - loss: 0.0079 - accuracy: 1.0000\n",
            "Epoch 00043: val_loss did not improve from 0.44919\n",
            "1200/1200 [==============================] - 18s 15ms/sample - loss: 0.0079 - accuracy: 1.0000 - val_loss: 0.4713 - val_accuracy: 0.8667\n",
            "Epoch 44/100\n",
            "1100/1200 [==========================>...] - ETA: 1s - loss: 0.0076 - accuracy: 1.0000\n",
            "Epoch 00044: val_loss did not improve from 0.44919\n",
            "1200/1200 [==============================] - 18s 15ms/sample - loss: 0.0076 - accuracy: 1.0000 - val_loss: 0.4532 - val_accuracy: 0.8800\n",
            "Epoch 45/100\n",
            "1100/1200 [==========================>...] - ETA: 1s - loss: 0.0073 - accuracy: 1.0000\n",
            "Epoch 00045: val_loss improved from 0.44919 to 0.44545, saving model to modelTaskVGG16.h5\n",
            "1200/1200 [==============================] - 19s 16ms/sample - loss: 0.0073 - accuracy: 1.0000 - val_loss: 0.4454 - val_accuracy: 0.8800\n",
            "Epoch 46/100\n",
            "1100/1200 [==========================>...] - ETA: 1s - loss: 0.0073 - accuracy: 1.0000\n",
            "Epoch 00046: val_loss did not improve from 0.44545\n",
            "1200/1200 [==============================] - 18s 15ms/sample - loss: 0.0072 - accuracy: 1.0000 - val_loss: 0.4578 - val_accuracy: 0.8733\n",
            "Epoch 47/100\n",
            "1100/1200 [==========================>...] - ETA: 1s - loss: 0.0069 - accuracy: 1.0000\n",
            "Epoch 00047: val_loss did not improve from 0.44545\n",
            "1200/1200 [==============================] - 18s 15ms/sample - loss: 0.0068 - accuracy: 1.0000 - val_loss: 0.4485 - val_accuracy: 0.8833\n",
            "Epoch 48/100\n",
            "1100/1200 [==========================>...] - ETA: 1s - loss: 0.0064 - accuracy: 1.0000\n",
            "Epoch 00048: val_loss did not improve from 0.44545\n",
            "1200/1200 [==============================] - 18s 15ms/sample - loss: 0.0066 - accuracy: 1.0000 - val_loss: 0.4519 - val_accuracy: 0.8833\n",
            "Epoch 49/100\n",
            "1100/1200 [==========================>...] - ETA: 1s - loss: 0.0063 - accuracy: 1.0000\n",
            "Epoch 00049: val_loss improved from 0.44545 to 0.44502, saving model to modelTaskVGG16.h5\n",
            "1200/1200 [==============================] - 19s 16ms/sample - loss: 0.0062 - accuracy: 1.0000 - val_loss: 0.4450 - val_accuracy: 0.8767\n",
            "Epoch 50/100\n",
            "1100/1200 [==========================>...] - ETA: 1s - loss: 0.0063 - accuracy: 1.0000\n",
            "Epoch 00050: val_loss improved from 0.44502 to 0.41925, saving model to modelTaskVGG16.h5\n",
            "1200/1200 [==============================] - 19s 16ms/sample - loss: 0.0063 - accuracy: 1.0000 - val_loss: 0.4192 - val_accuracy: 0.8867\n",
            "Epoch 51/100\n",
            "1100/1200 [==========================>...] - ETA: 1s - loss: 0.0061 - accuracy: 1.0000\n",
            "Epoch 00051: val_loss improved from 0.41925 to 0.40462, saving model to modelTaskVGG16.h5\n",
            "1200/1200 [==============================] - 19s 16ms/sample - loss: 0.0061 - accuracy: 1.0000 - val_loss: 0.4046 - val_accuracy: 0.8867\n",
            "Epoch 52/100\n",
            "1100/1200 [==========================>...] - ETA: 1s - loss: 0.0059 - accuracy: 1.0000\n",
            "Epoch 00052: val_loss did not improve from 0.40462\n",
            "1200/1200 [==============================] - 18s 15ms/sample - loss: 0.0059 - accuracy: 1.0000 - val_loss: 0.4086 - val_accuracy: 0.8900\n",
            "Epoch 53/100\n",
            "1100/1200 [==========================>...] - ETA: 1s - loss: 0.0058 - accuracy: 1.0000\n",
            "Epoch 00053: val_loss did not improve from 0.40462\n",
            "1200/1200 [==============================] - 18s 15ms/sample - loss: 0.0058 - accuracy: 1.0000 - val_loss: 0.4255 - val_accuracy: 0.8900\n",
            "Epoch 54/100\n",
            "1100/1200 [==========================>...] - ETA: 1s - loss: 0.0056 - accuracy: 1.0000\n",
            "Epoch 00054: val_loss did not improve from 0.40462\n",
            "1200/1200 [==============================] - 18s 15ms/sample - loss: 0.0056 - accuracy: 1.0000 - val_loss: 0.4393 - val_accuracy: 0.8800\n",
            "Epoch 55/100\n",
            "1100/1200 [==========================>...] - ETA: 1s - loss: 0.0055 - accuracy: 1.0000\n",
            "Epoch 00055: val_loss did not improve from 0.40462\n",
            "1200/1200 [==============================] - 18s 15ms/sample - loss: 0.0055 - accuracy: 1.0000 - val_loss: 0.4357 - val_accuracy: 0.8667\n",
            "Epoch 56/100\n",
            "1100/1200 [==========================>...] - ETA: 1s - loss: 0.0052 - accuracy: 1.0000\n",
            "Epoch 00056: val_loss did not improve from 0.40462\n",
            "1200/1200 [==============================] - 18s 15ms/sample - loss: 0.0052 - accuracy: 1.0000 - val_loss: 0.4117 - val_accuracy: 0.8867\n",
            "Epoch 57/100\n",
            "1100/1200 [==========================>...] - ETA: 1s - loss: 0.0051 - accuracy: 1.0000\n",
            "Epoch 00057: val_loss did not improve from 0.40462\n",
            "1200/1200 [==============================] - 18s 15ms/sample - loss: 0.0051 - accuracy: 1.0000 - val_loss: 0.4350 - val_accuracy: 0.8900\n",
            "Epoch 58/100\n",
            "1100/1200 [==========================>...] - ETA: 1s - loss: 0.0051 - accuracy: 1.0000\n",
            "Epoch 00058: val_loss did not improve from 0.40462\n",
            "1200/1200 [==============================] - 18s 15ms/sample - loss: 0.0050 - accuracy: 1.0000 - val_loss: 0.4384 - val_accuracy: 0.8633\n",
            "Epoch 59/100\n",
            "1100/1200 [==========================>...] - ETA: 1s - loss: 0.0050 - accuracy: 1.0000\n",
            "Epoch 00059: val_loss did not improve from 0.40462\n",
            "1200/1200 [==============================] - 18s 15ms/sample - loss: 0.0050 - accuracy: 1.0000 - val_loss: 0.4304 - val_accuracy: 0.8800\n",
            "Epoch 60/100\n",
            "1100/1200 [==========================>...] - ETA: 1s - loss: 0.0046 - accuracy: 1.0000\n",
            "Epoch 00060: val_loss did not improve from 0.40462\n",
            "1200/1200 [==============================] - 18s 15ms/sample - loss: 0.0045 - accuracy: 1.0000 - val_loss: 0.4290 - val_accuracy: 0.8800\n",
            "Epoch 61/100\n",
            "1100/1200 [==========================>...] - ETA: 1s - loss: 0.0046 - accuracy: 1.0000\n",
            "Epoch 00061: val_loss did not improve from 0.40462\n",
            "1200/1200 [==============================] - 18s 15ms/sample - loss: 0.0045 - accuracy: 1.0000 - val_loss: 0.4302 - val_accuracy: 0.8733\n",
            "Epoch 62/100\n",
            "1100/1200 [==========================>...] - ETA: 1s - loss: 0.0045 - accuracy: 1.0000\n",
            "Epoch 00062: val_loss did not improve from 0.40462\n",
            "1200/1200 [==============================] - 18s 15ms/sample - loss: 0.0045 - accuracy: 1.0000 - val_loss: 0.4153 - val_accuracy: 0.8733\n",
            "Epoch 63/100\n",
            "1100/1200 [==========================>...] - ETA: 1s - loss: 0.0043 - accuracy: 1.0000\n",
            "Epoch 00063: val_loss did not improve from 0.40462\n",
            "1200/1200 [==============================] - 18s 15ms/sample - loss: 0.0044 - accuracy: 1.0000 - val_loss: 0.4192 - val_accuracy: 0.8800\n",
            "Epoch 64/100\n",
            "1100/1200 [==========================>...] - ETA: 1s - loss: 0.0043 - accuracy: 1.0000\n",
            "Epoch 00064: val_loss did not improve from 0.40462\n",
            "1200/1200 [==============================] - 18s 15ms/sample - loss: 0.0043 - accuracy: 1.0000 - val_loss: 0.4203 - val_accuracy: 0.8767\n",
            "Epoch 65/100\n",
            "1100/1200 [==========================>...] - ETA: 1s - loss: 0.0042 - accuracy: 1.0000\n",
            "Epoch 00065: val_loss did not improve from 0.40462\n",
            "1200/1200 [==============================] - 18s 15ms/sample - loss: 0.0042 - accuracy: 1.0000 - val_loss: 0.4361 - val_accuracy: 0.8767\n",
            "Epoch 66/100\n",
            "1100/1200 [==========================>...] - ETA: 1s - loss: 0.0041 - accuracy: 1.0000\n",
            "Epoch 00066: val_loss did not improve from 0.40462\n",
            "1200/1200 [==============================] - 18s 15ms/sample - loss: 0.0041 - accuracy: 1.0000 - val_loss: 0.4296 - val_accuracy: 0.8833\n",
            "Epoch 67/100\n",
            "1100/1200 [==========================>...] - ETA: 1s - loss: 0.0040 - accuracy: 1.0000\n",
            "Epoch 00067: val_loss did not improve from 0.40462\n",
            "1200/1200 [==============================] - 18s 15ms/sample - loss: 0.0039 - accuracy: 1.0000 - val_loss: 0.4145 - val_accuracy: 0.8833\n",
            "Epoch 68/100\n",
            "1100/1200 [==========================>...] - ETA: 1s - loss: 0.0039 - accuracy: 1.0000\n",
            "Epoch 00068: val_loss did not improve from 0.40462\n",
            "1200/1200 [==============================] - 18s 15ms/sample - loss: 0.0039 - accuracy: 1.0000 - val_loss: 0.4154 - val_accuracy: 0.8800\n",
            "Epoch 69/100\n",
            "1100/1200 [==========================>...] - ETA: 1s - loss: 0.0040 - accuracy: 1.0000\n",
            "Epoch 00069: val_loss did not improve from 0.40462\n",
            "1200/1200 [==============================] - 18s 15ms/sample - loss: 0.0040 - accuracy: 1.0000 - val_loss: 0.4351 - val_accuracy: 0.8733\n",
            "Epoch 70/100\n",
            "1100/1200 [==========================>...] - ETA: 1s - loss: 0.0036 - accuracy: 1.0000\n",
            "Epoch 00070: val_loss did not improve from 0.40462\n",
            "1200/1200 [==============================] - 18s 15ms/sample - loss: 0.0036 - accuracy: 1.0000 - val_loss: 0.4170 - val_accuracy: 0.8833\n",
            "Epoch 71/100\n",
            "1100/1200 [==========================>...] - ETA: 1s - loss: 0.0035 - accuracy: 1.0000\n",
            "Epoch 00071: val_loss did not improve from 0.40462\n",
            "1200/1200 [==============================] - 18s 15ms/sample - loss: 0.0035 - accuracy: 1.0000 - val_loss: 0.4198 - val_accuracy: 0.8900\n",
            "Epoch 72/100\n",
            "1100/1200 [==========================>...] - ETA: 1s - loss: 0.0035 - accuracy: 1.0000\n",
            "Epoch 00072: val_loss did not improve from 0.40462\n",
            "1200/1200 [==============================] - 18s 15ms/sample - loss: 0.0035 - accuracy: 1.0000 - val_loss: 0.4195 - val_accuracy: 0.8900\n",
            "Epoch 73/100\n",
            "1100/1200 [==========================>...] - ETA: 1s - loss: 0.0034 - accuracy: 1.0000\n",
            "Epoch 00073: val_loss did not improve from 0.40462\n",
            "1200/1200 [==============================] - 18s 15ms/sample - loss: 0.0034 - accuracy: 1.0000 - val_loss: 0.4051 - val_accuracy: 0.8933\n",
            "Epoch 74/100\n",
            "1100/1200 [==========================>...] - ETA: 1s - loss: 0.0032 - accuracy: 1.0000\n",
            "Epoch 00074: val_loss did not improve from 0.40462\n",
            "1200/1200 [==============================] - 18s 15ms/sample - loss: 0.0033 - accuracy: 1.0000 - val_loss: 0.4173 - val_accuracy: 0.8900\n",
            "Epoch 75/100\n",
            "1100/1200 [==========================>...] - ETA: 1s - loss: 0.0033 - accuracy: 1.0000\n",
            "Epoch 00075: val_loss did not improve from 0.40462\n",
            "1200/1200 [==============================] - 18s 15ms/sample - loss: 0.0032 - accuracy: 1.0000 - val_loss: 0.4256 - val_accuracy: 0.8900\n",
            "Epoch 76/100\n",
            "1100/1200 [==========================>...] - ETA: 1s - loss: 0.0033 - accuracy: 1.0000\n",
            "Epoch 00076: val_loss did not improve from 0.40462\n",
            "1200/1200 [==============================] - 18s 15ms/sample - loss: 0.0033 - accuracy: 1.0000 - val_loss: 0.4186 - val_accuracy: 0.8833\n",
            "Epoch 77/100\n",
            "1100/1200 [==========================>...] - ETA: 1s - loss: 0.0033 - accuracy: 1.0000\n",
            "Epoch 00077: val_loss did not improve from 0.40462\n",
            "1200/1200 [==============================] - 18s 15ms/sample - loss: 0.0033 - accuracy: 1.0000 - val_loss: 0.4364 - val_accuracy: 0.8800\n",
            "Epoch 78/100\n",
            "1100/1200 [==========================>...] - ETA: 1s - loss: 0.0032 - accuracy: 1.0000\n",
            "Epoch 00078: val_loss did not improve from 0.40462\n",
            "1200/1200 [==============================] - 18s 15ms/sample - loss: 0.0031 - accuracy: 1.0000 - val_loss: 0.4125 - val_accuracy: 0.8800\n",
            "Epoch 79/100\n",
            "1100/1200 [==========================>...] - ETA: 1s - loss: 0.0030 - accuracy: 1.0000\n",
            "Epoch 00079: val_loss did not improve from 0.40462\n",
            "1200/1200 [==============================] - 18s 15ms/sample - loss: 0.0030 - accuracy: 1.0000 - val_loss: 0.4077 - val_accuracy: 0.8967\n",
            "Epoch 80/100\n",
            "1100/1200 [==========================>...] - ETA: 1s - loss: 0.0030 - accuracy: 1.0000\n",
            "Epoch 00080: val_loss did not improve from 0.40462\n",
            "1200/1200 [==============================] - 18s 15ms/sample - loss: 0.0030 - accuracy: 1.0000 - val_loss: 0.4136 - val_accuracy: 0.8900\n",
            "Epoch 81/100\n",
            "1100/1200 [==========================>...] - ETA: 1s - loss: 0.0029 - accuracy: 1.0000\n",
            "Epoch 00081: val_loss did not improve from 0.40462\n",
            "1200/1200 [==============================] - 18s 15ms/sample - loss: 0.0028 - accuracy: 1.0000 - val_loss: 0.4265 - val_accuracy: 0.8900\n",
            "Epoch 82/100\n",
            "1100/1200 [==========================>...] - ETA: 1s - loss: 0.0027 - accuracy: 1.0000\n",
            "Epoch 00082: val_loss did not improve from 0.40462\n",
            "1200/1200 [==============================] - 18s 15ms/sample - loss: 0.0027 - accuracy: 1.0000 - val_loss: 0.4169 - val_accuracy: 0.8967\n",
            "Epoch 83/100\n",
            "1100/1200 [==========================>...] - ETA: 1s - loss: 0.0027 - accuracy: 1.0000\n",
            "Epoch 00083: val_loss did not improve from 0.40462\n",
            "1200/1200 [==============================] - 19s 16ms/sample - loss: 0.0028 - accuracy: 1.0000 - val_loss: 0.4107 - val_accuracy: 0.8900\n",
            "Epoch 84/100\n",
            "1100/1200 [==========================>...] - ETA: 1s - loss: 0.0028 - accuracy: 1.0000\n",
            "Epoch 00084: val_loss did not improve from 0.40462\n",
            "1200/1200 [==============================] - 21s 18ms/sample - loss: 0.0027 - accuracy: 1.0000 - val_loss: 0.4154 - val_accuracy: 0.8867\n",
            "Epoch 85/100\n",
            "1100/1200 [==========================>...] - ETA: 1s - loss: 0.0026 - accuracy: 1.0000\n",
            "Epoch 00085: val_loss did not improve from 0.40462\n",
            "1200/1200 [==============================] - 18s 15ms/sample - loss: 0.0026 - accuracy: 1.0000 - val_loss: 0.4171 - val_accuracy: 0.9033\n",
            "Epoch 86/100\n",
            "1100/1200 [==========================>...] - ETA: 1s - loss: 0.0026 - accuracy: 1.0000\n",
            "Epoch 00086: val_loss improved from 0.40462 to 0.40307, saving model to modelTaskVGG16.h5\n",
            "1200/1200 [==============================] - 19s 16ms/sample - loss: 0.0026 - accuracy: 1.0000 - val_loss: 0.4031 - val_accuracy: 0.9067\n",
            "Epoch 87/100\n",
            "1100/1200 [==========================>...] - ETA: 1s - loss: 0.0025 - accuracy: 1.0000\n",
            "Epoch 00087: val_loss did not improve from 0.40307\n",
            "1200/1200 [==============================] - 18s 15ms/sample - loss: 0.0025 - accuracy: 1.0000 - val_loss: 0.4071 - val_accuracy: 0.8933\n",
            "Epoch 88/100\n",
            "1100/1200 [==========================>...] - ETA: 1s - loss: 0.0025 - accuracy: 1.0000\n",
            "Epoch 00088: val_loss did not improve from 0.40307\n",
            "1200/1200 [==============================] - 19s 16ms/sample - loss: 0.0025 - accuracy: 1.0000 - val_loss: 0.4100 - val_accuracy: 0.9000\n",
            "Epoch 89/100\n",
            "1100/1200 [==========================>...] - ETA: 1s - loss: 0.0025 - accuracy: 1.0000\n",
            "Epoch 00089: val_loss improved from 0.40307 to 0.40187, saving model to modelTaskVGG16.h5\n",
            "1200/1200 [==============================] - 19s 16ms/sample - loss: 0.0025 - accuracy: 1.0000 - val_loss: 0.4019 - val_accuracy: 0.9000\n",
            "Epoch 90/100\n",
            "1100/1200 [==========================>...] - ETA: 1s - loss: 0.0024 - accuracy: 1.0000\n",
            "Epoch 00090: val_loss improved from 0.40187 to 0.39680, saving model to modelTaskVGG16.h5\n",
            "1200/1200 [==============================] - 19s 16ms/sample - loss: 0.0024 - accuracy: 1.0000 - val_loss: 0.3968 - val_accuracy: 0.9033\n",
            "Epoch 91/100\n",
            "1100/1200 [==========================>...] - ETA: 1s - loss: 0.0024 - accuracy: 1.0000\n",
            "Epoch 00091: val_loss did not improve from 0.39680\n",
            "1200/1200 [==============================] - 18s 15ms/sample - loss: 0.0024 - accuracy: 1.0000 - val_loss: 0.4178 - val_accuracy: 0.8900\n",
            "Epoch 92/100\n",
            "1100/1200 [==========================>...] - ETA: 1s - loss: 0.0024 - accuracy: 1.0000\n",
            "Epoch 00092: val_loss did not improve from 0.39680\n",
            "1200/1200 [==============================] - 18s 15ms/sample - loss: 0.0024 - accuracy: 1.0000 - val_loss: 0.4174 - val_accuracy: 0.9000\n",
            "Epoch 93/100\n",
            "1100/1200 [==========================>...] - ETA: 1s - loss: 0.0023 - accuracy: 1.0000\n",
            "Epoch 00093: val_loss did not improve from 0.39680\n",
            "1200/1200 [==============================] - 18s 15ms/sample - loss: 0.0023 - accuracy: 1.0000 - val_loss: 0.4231 - val_accuracy: 0.8900\n",
            "Epoch 94/100\n",
            "1100/1200 [==========================>...] - ETA: 1s - loss: 0.0025 - accuracy: 1.0000\n",
            "Epoch 00094: val_loss did not improve from 0.39680\n",
            "1200/1200 [==============================] - 18s 15ms/sample - loss: 0.0025 - accuracy: 1.0000 - val_loss: 0.4235 - val_accuracy: 0.8833\n",
            "Epoch 95/100\n",
            "1100/1200 [==========================>...] - ETA: 1s - loss: 0.0023 - accuracy: 1.0000\n",
            "Epoch 00095: val_loss did not improve from 0.39680\n",
            "1200/1200 [==============================] - 18s 15ms/sample - loss: 0.0023 - accuracy: 1.0000 - val_loss: 0.3998 - val_accuracy: 0.8933\n",
            "Epoch 96/100\n",
            "1100/1200 [==========================>...] - ETA: 1s - loss: 0.0022 - accuracy: 1.0000\n",
            "Epoch 00096: val_loss did not improve from 0.39680\n",
            "1200/1200 [==============================] - 18s 15ms/sample - loss: 0.0022 - accuracy: 1.0000 - val_loss: 0.4090 - val_accuracy: 0.8867\n",
            "Epoch 97/100\n",
            "1100/1200 [==========================>...] - ETA: 1s - loss: 0.0022 - accuracy: 1.0000\n",
            "Epoch 00097: val_loss did not improve from 0.39680\n",
            "1200/1200 [==============================] - 18s 15ms/sample - loss: 0.0022 - accuracy: 1.0000 - val_loss: 0.4210 - val_accuracy: 0.9000\n",
            "Epoch 98/100\n",
            "1100/1200 [==========================>...] - ETA: 1s - loss: 0.0022 - accuracy: 1.0000\n",
            "Epoch 00098: val_loss did not improve from 0.39680\n",
            "1200/1200 [==============================] - 18s 15ms/sample - loss: 0.0022 - accuracy: 1.0000 - val_loss: 0.4088 - val_accuracy: 0.8900\n",
            "Epoch 99/100\n",
            "1100/1200 [==========================>...] - ETA: 1s - loss: 0.0020 - accuracy: 1.0000\n",
            "Epoch 00099: val_loss did not improve from 0.39680\n",
            "1200/1200 [==============================] - 18s 15ms/sample - loss: 0.0020 - accuracy: 1.0000 - val_loss: 0.4227 - val_accuracy: 0.8867\n",
            "Epoch 100/100\n",
            "1100/1200 [==========================>...] - ETA: 1s - loss: 0.0020 - accuracy: 1.0000\n",
            "Epoch 00100: val_loss did not improve from 0.39680\n",
            "1200/1200 [==============================] - 18s 15ms/sample - loss: 0.0020 - accuracy: 1.0000 - val_loss: 0.4088 - val_accuracy: 0.8900\n"
          ]
        }
      ],
      "source": [
        "# Create model checkpoint for saving only the best model with least validation loss\n",
        "model_checkpoint = ModelCheckpoint('modelTaskVGG16.h5', monitor='val_loss', verbose=1, save_best_only=True)\n",
        "# Initializae tensorboard for callback to inspect logs generated\n",
        "tensorboardCall = TensorBoard(\n",
        "  log_dir=logDir,\n",
        "  histogram_freq=1,\n",
        "  write_images=True)\n",
        "# Below callback was tried to avoid overfitting\n",
        "LROnPlateauCallback = ReduceLROnPlateau(monitor='val_loss', factor=0.6, patience=8, verbose=1, mode='max', min_lr=5e-5)\n",
        "# Train the model with specified parameters\n",
        "hist = model.fit(X_train, y_train, batch_size=batchSize, epochs=numEpoch, verbose=1, validation_data=(X_test, y_test),callbacks=[ tensorboardCall, model_checkpoint])"
      ]
    },
    {
      "cell_type": "markdown",
      "source": [
        "### Save Model and Weights"
      ],
      "metadata": {
        "id": "ZRTv1sKKb0Zx"
      }
    },
    {
      "cell_type": "code",
      "source": [
        "# Save the model for later testing\n",
        "from keras.models import model_from_json\n",
        "from keras.models import load_model\n",
        "# serialize model to JSON\n",
        "model_json = model.to_json()\n",
        "with open(\"modelVGG16.json\", \"w\") as json_file:\n",
        "    json_file.write(model_json)\n",
        "# serialize weights to HDF5\n",
        "model.save_weights(\"modelVGG16\",save_format='tf')\n",
        "print(\"Saved model to disk\")\n",
        "model.save('testModel.h5')"
      ],
      "metadata": {
        "colab": {
          "base_uri": "https://localhost:8080/"
        },
        "id": "kpsTGJ1kbzUQ",
        "outputId": "c6bc7bdf-5bc4-41ab-ec50-8f47645297ed"
      },
      "execution_count": null,
      "outputs": [
        {
          "output_type": "stream",
          "name": "stdout",
          "text": [
            "Saved model to disk\n"
          ]
        }
      ]
    },
    {
      "cell_type": "code",
      "source": [
        "XGBmodel = xgb.XGBClassifier()\n",
        "from tensorflow.keras.models import load_model\n",
        "from keras.models import model_from_json\n",
        "\n",
        "# Load Trained CNN Model\n",
        "print(\"[INFO] loading network...\")\n",
        "loaded_model =  tf.keras.models.load_model('testModel.h5')\n",
        "\n",
        "\n",
        "# json_file = open('modelVGG16.json', 'r')\n",
        "# loaded_model_json = json_file.read()\n",
        "# json_file.close()\n",
        "# loaded_model = model_from_json(loaded_model_json)\n",
        "# # load weights into new model\n",
        "# loaded_model.load_weights(\"modelVGG16\")\n",
        "print(\"Loaded model from disk\")\n",
        "\n",
        "xgbX_predict = loaded_model.predict(X_train)\n",
        "xgbX_trainFeatures = xgbX_predict.reshape(xgbX_predict.shape[0], -1)\n",
        "\n",
        "XGBmodel.fit(xgbX_trainFeatures,y_train.argmax(1)) #For sklearn no one hot encoding\n",
        "\n",
        "#Send test data through same feature extractor process\n",
        "xgbX_predict = loaded_model.predict(X_test)\n",
        "xgbX_predict = xgbX_predict.reshape(xgbX_predict.shape[0], -1)\n",
        "\n",
        "#Now predict using the trained RF model. \n",
        "prediction = XGBmodel.predict(xgbX_predict)\n",
        "\n",
        "#Print overall accuracy\n",
        "from sklearn import metrics\n",
        "print (\"Accuracy = \", accuracy_score(y_test.argmax(1), prediction))\n",
        "\n",
        "#Confusion Matrix - verify accuracy of each class\n",
        "from sklearn.metrics import confusion_matrix\n",
        "\n",
        "cm = confusion_matrix(y_test.argmax(1), prediction)\n",
        "sns.heatmap(cm, annot=True)\n",
        "\n"
      ],
      "metadata": {
        "colab": {
          "base_uri": "https://localhost:8080/",
          "height": 334
        },
        "id": "JDejz53sqBL6",
        "outputId": "adc7e880-fe76-441c-aac2-51912362be6e"
      },
      "execution_count": null,
      "outputs": [
        {
          "output_type": "stream",
          "name": "stdout",
          "text": [
            "[INFO] loading network...\n",
            "Loaded model from disk\n",
            "Accuracy =  0.7633333333333333\n"
          ]
        },
        {
          "output_type": "execute_result",
          "data": {
            "text/plain": [
              "<matplotlib.axes._subplots.AxesSubplot at 0x7f3126a17c50>"
            ]
          },
          "metadata": {},
          "execution_count": 16
        },
        {
          "output_type": "display_data",
          "data": {
            "text/plain": [
              "<Figure size 432x288 with 2 Axes>"
            ],
            "image/png": "[encoded data removed]"
          },
          "metadata": {
            "needs_background": "light"
          }
        }
      ]
    },
    {
      "cell_type": "markdown",
      "metadata": {
        "id": "5VRDMfflEzL7"
      },
      "source": [
        "### Training Visualization"
      ]
    },
    {
      "cell_type": "code",
      "execution_count": null,
      "metadata": {
        "id": "eTYqfzOIE0jw",
        "colab": {
          "base_uri": "https://localhost:8080/",
          "height": 739
        },
        "outputId": "97de3f92-0250-4f1b-a833-b09865adfce6"
      },
      "outputs": [
        {
          "output_type": "display_data",
          "data": {
            "text/plain": [
              "<Figure size 504x360 with 1 Axes>"
            ],
            "image/png": "[encoded data removed]"
          },
          "metadata": {
            "needs_background": "light"
          }
        },
        {
          "output_type": "display_data",
          "data": {
            "text/plain": [
              "<Figure size 560x400 with 1 Axes>"
            ],
            "image/png": "[encoded data removed]"
          },
          "metadata": {}
        }
      ],
      "source": [
        "## visualizing losses and accuracy\n",
        "trainLoss=hist.history['loss']\n",
        "valLoss=hist.history['val_loss']\n",
        "trainAcc=hist.history['accuracy']\n",
        "valAcc=hist.history['val_accuracy']\n",
        "xc=range(numEpoch)\n",
        "\n",
        "plt.figure(1,figsize=(7,5))\n",
        "plt.plot(xc,trainLoss)\n",
        "plt.plot(xc,valLoss)\n",
        "plt.xlabel('num of Epochs')\n",
        "plt.ylabel('loss')\n",
        "plt.title('train_loss vs val_loss')\n",
        "plt.grid(True)\n",
        "plt.legend(['train','val'])\n",
        "#print(plt.style.available) # use bmh, classic,ggplot for big pictures\n",
        "plt.style.use(['classic'])\n",
        "plt.savefig(\"train_val_loss_ver.png\")\n",
        "\n",
        "plt.figure(2,figsize=(7,5))\n",
        "plt.plot(xc,trainAcc)\n",
        "plt.plot(xc,valAcc)\n",
        "plt.xlabel('num of Epochs')\n",
        "plt.ylabel('accuracy')\n",
        "plt.title('train_acc vs val_acc')\n",
        "plt.grid(True)\n",
        "plt.legend(['train','val'],loc=4)\n",
        "#print plt.style.available # use bmh, classic,ggplot for big pictures\n",
        "plt.style.use(['classic'])\n",
        "plt.savefig(\"train_val_acc_ver.png\")"
      ]
    },
    {
      "cell_type": "code",
      "execution_count": null,
      "metadata": {
        "id": "DK3SkrVXO2YH",
        "colab": {
          "base_uri": "https://localhost:8080/",
          "height": 537
        },
        "outputId": "eddb09e8-8c37-4917-d439-1b42d0bbbbda"
      },
      "outputs": [
        {
          "output_type": "stream",
          "name": "stdout",
          "text": [
            "Confusion matrix, without normalization\n"
          ]
        },
        {
          "output_type": "display_data",
          "data": {
            "text/plain": [
              "<Figure size 1920x1920 with 0 Axes>"
            ]
          },
          "metadata": {}
        },
        {
          "output_type": "display_data",
          "data": {
            "text/plain": [
              "<Figure size 640x480 with 2 Axes>"
            ],
            "image/png": "[encoded data removed]"
          },
          "metadata": {}
        }
      ],
      "source": [
        "Y_pred = model.predict(X_test)\n",
        "y_pred = np.argmax(Y_pred, axis=1)\n",
        "targetNames = trainListDirs\n",
        "# Compute confusion matrix\n",
        "cnf_matrix = (confusion_matrix(np.argmax(y_test, axis=1), y_pred))\n",
        "\n",
        "np.set_printoptions(precision=2)\n",
        "#change fig size to change size of the Confusion matrix\n",
        "plt.figure(figsize=(24, 24))\n",
        "plt.figure()\n",
        "\n",
        "# Plot non-normalized confusion matrix\n",
        "plot_confusion_matrix(cnf_matrix, classes=targetNames, title='Confusion matrix')\n",
        "plt.savefig(\"Confusion Matrix.png\")\n",
        "plt.show()"
      ]
    },
    {
      "cell_type": "code",
      "execution_count": null,
      "metadata": {
        "id": "JnmEyV_2Pt1W",
        "colab": {
          "base_uri": "https://localhost:8080/"
        },
        "outputId": "81d33955-48da-417d-ce1a-4a4cdcbe326e"
      },
      "outputs": [
        {
          "output_type": "stream",
          "name": "stdout",
          "text": [
            "Test Loss: 0.40880467573801677\n",
            "Test accuracy: 0.89\n"
          ]
        }
      ],
      "source": [
        "score = model.evaluate(X_test, y_test, verbose=0)\n",
        "print('Test Loss:', score[0])\n",
        "print('Test accuracy:', score[1])"
      ]
    },
    {
      "cell_type": "markdown",
      "source": [
        "#For testing"
      ],
      "metadata": {
        "id": "w_sRhmOChHP0"
      }
    },
    {
      "cell_type": "code",
      "execution_count": null,
      "metadata": {
        "id": "WSt9N2zIppQA",
        "colab": {
          "base_uri": "https://localhost:8080/"
        },
        "outputId": "7e4774cf-5213-434e-d111-9c10d205df04"
      },
      "outputs": [
        {
          "output_type": "stream",
          "name": "stdout",
          "text": [
            "[INFO] loading network...\n",
            "Loaded model from disk\n"
          ]
        },
        {
          "output_type": "stream",
          "name": "stderr",
          "text": [
            "2985it [05:27,  9.11it/s]\n"
          ]
        }
      ],
      "source": [
        "import tensorflow as tf\n",
        "import os\n",
        "import cv2\n",
        "import numpy as np\n",
        "from tensorflow.keras.models import load_model\n",
        "from keras.models import model_from_json\n",
        "from tqdm import tqdm\n",
        "\n",
        "import re\n",
        "def sorted_alphanumeric(data):\n",
        "  convert = lambda text: int(text) if text.isdigit() else text.lower()\n",
        "  alphanum_key = lambda key: [ convert(c) for c in re.split('([0-9]+)', key) ] \n",
        "  return sorted(data, key=alphanum_key)\n",
        "                  \n",
        "\n",
        "\n",
        "# Set Image height and Weight\n",
        "imgRows=224\n",
        "imgCols=224\n",
        "#Set the numChannel to 1 for grayscale Image and 3 for Color Image\n",
        "numChannel=3\n",
        "\n",
        "\n",
        "#Get the current Working Directory\n",
        "currPath = os.getcwd()\n",
        "currPath = currPath.replace('\\\\','/')\n",
        "\n",
        "# Define training, testing, and Log Dir\n",
        "trainDir = currPath+'/drive/MyDrive/Dataset_Task3/training'\n",
        "testDir = currPath+'/drive/MyDrive/Dataset_Task3/testing'\n",
        "\n",
        "# Load Trained CNN Model\n",
        "print(\"[INFO] loading network...\")\n",
        "loaded_model =  tf.keras.models.load_model(currPath+'/drive/MyDrive/Dataset_Task3/testModel.h5')\n",
        "print(\"Loaded model from disk\")\n",
        "# loaded_model.predict(X_test)\n",
        "\n",
        "\n",
        "# The variable will have all the class names\n",
        "trainListDirs = os.listdir(trainDir)\n",
        "# This variable will have all the testing images\n",
        "imgListDirs = sorted_alphanumeric(np.sort(os.listdir(testDir)))\n",
        "\n",
        "trainListDirs = os.listdir(trainDir)\n",
        "# get number of classes based on the directory count\n",
        "numClasses = len(trainListDirs)\n",
        "\n",
        "# Create empty list for loading data\n",
        "imgDataList = []\n",
        "\n",
        "fileRun3 = open('run3.txt', 'w+')\n",
        "#     Read all images of each class\n",
        "for filePos,img in tqdm(enumerate(imgListDirs)):\n",
        "    input_img=cv2.imread(testDir+ '/'+ img)\n",
        "    if numChannel == 3:\n",
        "#             Convert the image to RGB\n",
        "        input_img = cv2.cvtColor(input_img,cv2.COLOR_BGR2RGB)\n",
        "    else:\n",
        "#             Convert the image to grayscale\n",
        "        input_img = cv2.cvtColor(input_img,cv2.COLOR_BGR2GRAY)\n",
        "#     Resize the image with given dimension\n",
        "    newImgResize = cv2.resize(input_img,(imgRows,imgCols), interpolation = cv2.INTER_AREA)\n",
        "    newImgResize = newImgResize.astype('float32')\n",
        "    finalImg = newImgResize/255\n",
        "    finalImg=np.expand_dims(finalImg,axis=0)\n",
        "    result=loaded_model.predict(finalImg)\n",
        "    max=result[0][0]\n",
        "    label=0\n",
        "    for i in range(0,len(result[0])):\n",
        "    \tif result[0][i]>max:\n",
        "    \t\tmax=result[0][i]\n",
        "    \t\tlabel=i\n",
        "    fileRun3.write(f\"{imgListDirs[filePos]} {trainListDirs[label]}\\n\")\n",
        "fileRun3.close()"
      ]
    }
  ],
  "metadata": {
    "accelerator": "GPU",
    "colab": {
      "collapsed_sections": [],
      "name": "Task 3 with Ensemble Learning.ipynb",
      "provenance": []
    },
    "kernelspec": {
      "display_name": "Python 3",
      "name": "python3"
    },
    "language_info": {
      "name": "python"
    }
  },
  "nbformat": 4,
  "nbformat_minor": 0
}